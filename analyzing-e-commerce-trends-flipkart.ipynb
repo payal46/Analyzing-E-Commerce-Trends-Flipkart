{
 "cells": [
  {
   "cell_type": "code",
   "execution_count": 7,
   "id": "9884e691",
   "metadata": {
    "_cell_guid": "b1076dfc-b9ad-4769-8c92-a6c4dae69d19",
    "_uuid": "8f2839f25d086af736a60e9eeb907d3b93b6e0e5",
    "papermill": {
     "duration": 0.448984,
     "end_time": "2023-10-19T06:07:12.615564",
     "exception": false,
     "start_time": "2023-10-19T06:07:12.166580",
     "status": "completed"
    },
    "tags": []
   },
   "outputs": [],
   "source": [
    "import numpy as np # linear algebra\n",
    "import pandas as pd # data processing, CSV file I/O (e.g. pd.read_csv)\n",
    "import os\n",
    "for dirname, _, filenames in os.walk('input'):\n",
    "    for filename in filenames:\n",
    "        print(os.path.join(dirname, filename))\n",
    "\n"
   ]
  },
  {
   "cell_type": "markdown",
   "id": "c8aa3e02",
   "metadata": {
    "papermill": {
     "duration": 0.006272,
     "end_time": "2023-10-19T06:07:12.628920",
     "exception": false,
     "start_time": "2023-10-19T06:07:12.622648",
     "status": "completed"
    },
    "tags": []
   },
   "source": [
    "**Analyzing E-Commerce Trends (Flipkart)**\n",
    "\n",
    "●\t**What is the problem?**\n",
    "\n",
    "The aim is to analyze the Flipkart sales dataset to understand customer preferences, product\n",
    "performance, and sales trends. The analysis will focus on identifying the most popular categories, \n",
    "brands, pricing strategies, and customer ratings.\n",
    "\n",
    "●\t**Why is it important to be solved?**\n",
    "\n",
    "Solving this problem will help Flipkart make data-driven decisions to improve product listings,\n",
    "pricing strategies, and customer satisfaction. The insights gained from this analysis could lead \n",
    "to increased sales, better customer retention, and improved overall business performance\n"
   ]
  },
  {
   "cell_type": "code",
   "execution_count": 8,
   "id": "f0516c57",
   "metadata": {
    "papermill": {
     "duration": 1.719411,
     "end_time": "2023-10-19T06:07:14.355448",
     "exception": false,
     "start_time": "2023-10-19T06:07:12.636037",
     "status": "completed"
    },
    "tags": []
   },
   "outputs": [],
   "source": [
    "import matplotlib.pyplot as plt\n",
    "import seaborn as sns\n",
    "\n",
    "import numpy as np\n",
    "import pandas as pd"
   ]
  },
  {
   "cell_type": "code",
   "execution_count": 9,
   "id": "e5325419",
   "metadata": {
    "papermill": {
     "duration": 1.134713,
     "end_time": "2023-10-19T06:07:15.497713",
     "exception": false,
     "start_time": "2023-10-19T06:07:14.363000",
     "status": "completed"
    },
    "tags": []
   },
   "outputs": [],
   "source": [
    "df= pd.read_csv(\"flipkart_com-ecommerce_sample.csv\")"
   ]
  },
  {
   "cell_type": "code",
   "execution_count": 10,
   "id": "c9742880",
   "metadata": {
    "papermill": {
     "duration": 0.042914,
     "end_time": "2023-10-19T06:07:15.547689",
     "exception": false,
     "start_time": "2023-10-19T06:07:15.504775",
     "status": "completed"
    },
    "tags": []
   },
   "outputs": [
    {
     "data": {
      "text/html": [
       "<div>\n",
       "<style scoped>\n",
       "    .dataframe tbody tr th:only-of-type {\n",
       "        vertical-align: middle;\n",
       "    }\n",
       "\n",
       "    .dataframe tbody tr th {\n",
       "        vertical-align: top;\n",
       "    }\n",
       "\n",
       "    .dataframe thead th {\n",
       "        text-align: right;\n",
       "    }\n",
       "</style>\n",
       "<table border=\"1\" class=\"dataframe\">\n",
       "  <thead>\n",
       "    <tr style=\"text-align: right;\">\n",
       "      <th></th>\n",
       "      <th>uniq_id</th>\n",
       "      <th>crawl_timestamp</th>\n",
       "      <th>product_url</th>\n",
       "      <th>product_name</th>\n",
       "      <th>product_category_tree</th>\n",
       "      <th>pid</th>\n",
       "      <th>retail_price</th>\n",
       "      <th>discounted_price</th>\n",
       "      <th>image</th>\n",
       "      <th>is_FK_Advantage_product</th>\n",
       "      <th>description</th>\n",
       "      <th>product_rating</th>\n",
       "      <th>overall_rating</th>\n",
       "      <th>brand</th>\n",
       "      <th>product_specifications</th>\n",
       "    </tr>\n",
       "  </thead>\n",
       "  <tbody>\n",
       "    <tr>\n",
       "      <th>0</th>\n",
       "      <td>c2d766ca982eca8304150849735ffef9</td>\n",
       "      <td>2016-03-25 22:59:23 +0000</td>\n",
       "      <td>http://www.flipkart.com/alisha-solid-women-s-c...</td>\n",
       "      <td>Alisha Solid Women's Cycling Shorts</td>\n",
       "      <td>[\"Clothing &gt;&gt; Women's Clothing &gt;&gt; Lingerie, Sl...</td>\n",
       "      <td>SRTEH2FF9KEDEFGF</td>\n",
       "      <td>999.0</td>\n",
       "      <td>379.0</td>\n",
       "      <td>[\"http://img5a.flixcart.com/image/short/u/4/a/...</td>\n",
       "      <td>False</td>\n",
       "      <td>Key Features of Alisha Solid Women's Cycling S...</td>\n",
       "      <td>No rating available</td>\n",
       "      <td>No rating available</td>\n",
       "      <td>Alisha</td>\n",
       "      <td>{\"product_specification\"=&gt;[{\"key\"=&gt;\"Number of ...</td>\n",
       "    </tr>\n",
       "    <tr>\n",
       "      <th>1</th>\n",
       "      <td>7f7036a6d550aaa89d34c77bd39a5e48</td>\n",
       "      <td>2016-03-25 22:59:23 +0000</td>\n",
       "      <td>http://www.flipkart.com/fabhomedecor-fabric-do...</td>\n",
       "      <td>FabHomeDecor Fabric Double Sofa Bed</td>\n",
       "      <td>[\"Furniture &gt;&gt; Living Room Furniture &gt;&gt; Sofa B...</td>\n",
       "      <td>SBEEH3QGU7MFYJFY</td>\n",
       "      <td>32157.0</td>\n",
       "      <td>22646.0</td>\n",
       "      <td>[\"http://img6a.flixcart.com/image/sofa-bed/j/f...</td>\n",
       "      <td>False</td>\n",
       "      <td>FabHomeDecor Fabric Double Sofa Bed (Finish Co...</td>\n",
       "      <td>No rating available</td>\n",
       "      <td>No rating available</td>\n",
       "      <td>FabHomeDecor</td>\n",
       "      <td>{\"product_specification\"=&gt;[{\"key\"=&gt;\"Installati...</td>\n",
       "    </tr>\n",
       "    <tr>\n",
       "      <th>2</th>\n",
       "      <td>f449ec65dcbc041b6ae5e6a32717d01b</td>\n",
       "      <td>2016-03-25 22:59:23 +0000</td>\n",
       "      <td>http://www.flipkart.com/aw-bellies/p/itmeh4grg...</td>\n",
       "      <td>AW Bellies</td>\n",
       "      <td>[\"Footwear &gt;&gt; Women's Footwear &gt;&gt; Ballerinas &gt;...</td>\n",
       "      <td>SHOEH4GRSUBJGZXE</td>\n",
       "      <td>999.0</td>\n",
       "      <td>499.0</td>\n",
       "      <td>[\"http://img5a.flixcart.com/image/shoe/7/z/z/r...</td>\n",
       "      <td>False</td>\n",
       "      <td>Key Features of AW Bellies Sandals Wedges Heel...</td>\n",
       "      <td>No rating available</td>\n",
       "      <td>No rating available</td>\n",
       "      <td>AW</td>\n",
       "      <td>{\"product_specification\"=&gt;[{\"key\"=&gt;\"Ideal For\"...</td>\n",
       "    </tr>\n",
       "    <tr>\n",
       "      <th>3</th>\n",
       "      <td>0973b37acd0c664e3de26e97e5571454</td>\n",
       "      <td>2016-03-25 22:59:23 +0000</td>\n",
       "      <td>http://www.flipkart.com/alisha-solid-women-s-c...</td>\n",
       "      <td>Alisha Solid Women's Cycling Shorts</td>\n",
       "      <td>[\"Clothing &gt;&gt; Women's Clothing &gt;&gt; Lingerie, Sl...</td>\n",
       "      <td>SRTEH2F6HUZMQ6SJ</td>\n",
       "      <td>699.0</td>\n",
       "      <td>267.0</td>\n",
       "      <td>[\"http://img5a.flixcart.com/image/short/6/2/h/...</td>\n",
       "      <td>False</td>\n",
       "      <td>Key Features of Alisha Solid Women's Cycling S...</td>\n",
       "      <td>No rating available</td>\n",
       "      <td>No rating available</td>\n",
       "      <td>Alisha</td>\n",
       "      <td>{\"product_specification\"=&gt;[{\"key\"=&gt;\"Number of ...</td>\n",
       "    </tr>\n",
       "    <tr>\n",
       "      <th>4</th>\n",
       "      <td>bc940ea42ee6bef5ac7cea3fb5cfbee7</td>\n",
       "      <td>2016-03-25 22:59:23 +0000</td>\n",
       "      <td>http://www.flipkart.com/sicons-all-purpose-arn...</td>\n",
       "      <td>Sicons All Purpose Arnica Dog Shampoo</td>\n",
       "      <td>[\"Pet Supplies &gt;&gt; Grooming &gt;&gt; Skin &amp; Coat Care...</td>\n",
       "      <td>PSOEH3ZYDMSYARJ5</td>\n",
       "      <td>220.0</td>\n",
       "      <td>210.0</td>\n",
       "      <td>[\"http://img5a.flixcart.com/image/pet-shampoo/...</td>\n",
       "      <td>False</td>\n",
       "      <td>Specifications of Sicons All Purpose Arnica Do...</td>\n",
       "      <td>No rating available</td>\n",
       "      <td>No rating available</td>\n",
       "      <td>Sicons</td>\n",
       "      <td>{\"product_specification\"=&gt;[{\"key\"=&gt;\"Pet Type\",...</td>\n",
       "    </tr>\n",
       "  </tbody>\n",
       "</table>\n",
       "</div>"
      ],
      "text/plain": [
       "                            uniq_id            crawl_timestamp  \\\n",
       "0  c2d766ca982eca8304150849735ffef9  2016-03-25 22:59:23 +0000   \n",
       "1  7f7036a6d550aaa89d34c77bd39a5e48  2016-03-25 22:59:23 +0000   \n",
       "2  f449ec65dcbc041b6ae5e6a32717d01b  2016-03-25 22:59:23 +0000   \n",
       "3  0973b37acd0c664e3de26e97e5571454  2016-03-25 22:59:23 +0000   \n",
       "4  bc940ea42ee6bef5ac7cea3fb5cfbee7  2016-03-25 22:59:23 +0000   \n",
       "\n",
       "                                         product_url  \\\n",
       "0  http://www.flipkart.com/alisha-solid-women-s-c...   \n",
       "1  http://www.flipkart.com/fabhomedecor-fabric-do...   \n",
       "2  http://www.flipkart.com/aw-bellies/p/itmeh4grg...   \n",
       "3  http://www.flipkart.com/alisha-solid-women-s-c...   \n",
       "4  http://www.flipkart.com/sicons-all-purpose-arn...   \n",
       "\n",
       "                            product_name  \\\n",
       "0    Alisha Solid Women's Cycling Shorts   \n",
       "1    FabHomeDecor Fabric Double Sofa Bed   \n",
       "2                             AW Bellies   \n",
       "3    Alisha Solid Women's Cycling Shorts   \n",
       "4  Sicons All Purpose Arnica Dog Shampoo   \n",
       "\n",
       "                               product_category_tree               pid  \\\n",
       "0  [\"Clothing >> Women's Clothing >> Lingerie, Sl...  SRTEH2FF9KEDEFGF   \n",
       "1  [\"Furniture >> Living Room Furniture >> Sofa B...  SBEEH3QGU7MFYJFY   \n",
       "2  [\"Footwear >> Women's Footwear >> Ballerinas >...  SHOEH4GRSUBJGZXE   \n",
       "3  [\"Clothing >> Women's Clothing >> Lingerie, Sl...  SRTEH2F6HUZMQ6SJ   \n",
       "4  [\"Pet Supplies >> Grooming >> Skin & Coat Care...  PSOEH3ZYDMSYARJ5   \n",
       "\n",
       "   retail_price  discounted_price  \\\n",
       "0         999.0             379.0   \n",
       "1       32157.0           22646.0   \n",
       "2         999.0             499.0   \n",
       "3         699.0             267.0   \n",
       "4         220.0             210.0   \n",
       "\n",
       "                                               image  is_FK_Advantage_product  \\\n",
       "0  [\"http://img5a.flixcart.com/image/short/u/4/a/...                    False   \n",
       "1  [\"http://img6a.flixcart.com/image/sofa-bed/j/f...                    False   \n",
       "2  [\"http://img5a.flixcart.com/image/shoe/7/z/z/r...                    False   \n",
       "3  [\"http://img5a.flixcart.com/image/short/6/2/h/...                    False   \n",
       "4  [\"http://img5a.flixcart.com/image/pet-shampoo/...                    False   \n",
       "\n",
       "                                         description       product_rating  \\\n",
       "0  Key Features of Alisha Solid Women's Cycling S...  No rating available   \n",
       "1  FabHomeDecor Fabric Double Sofa Bed (Finish Co...  No rating available   \n",
       "2  Key Features of AW Bellies Sandals Wedges Heel...  No rating available   \n",
       "3  Key Features of Alisha Solid Women's Cycling S...  No rating available   \n",
       "4  Specifications of Sicons All Purpose Arnica Do...  No rating available   \n",
       "\n",
       "        overall_rating         brand  \\\n",
       "0  No rating available        Alisha   \n",
       "1  No rating available  FabHomeDecor   \n",
       "2  No rating available            AW   \n",
       "3  No rating available        Alisha   \n",
       "4  No rating available        Sicons   \n",
       "\n",
       "                              product_specifications  \n",
       "0  {\"product_specification\"=>[{\"key\"=>\"Number of ...  \n",
       "1  {\"product_specification\"=>[{\"key\"=>\"Installati...  \n",
       "2  {\"product_specification\"=>[{\"key\"=>\"Ideal For\"...  \n",
       "3  {\"product_specification\"=>[{\"key\"=>\"Number of ...  \n",
       "4  {\"product_specification\"=>[{\"key\"=>\"Pet Type\",...  "
      ]
     },
     "execution_count": 10,
     "metadata": {},
     "output_type": "execute_result"
    }
   ],
   "source": [
    "df.head()"
   ]
  },
  {
   "cell_type": "code",
   "execution_count": 11,
   "id": "f176e819",
   "metadata": {
    "papermill": {
     "duration": 0.034885,
     "end_time": "2023-10-19T06:07:15.590744",
     "exception": false,
     "start_time": "2023-10-19T06:07:15.555859",
     "status": "completed"
    },
    "tags": []
   },
   "outputs": [
    {
     "data": {
      "text/html": [
       "<div>\n",
       "<style scoped>\n",
       "    .dataframe tbody tr th:only-of-type {\n",
       "        vertical-align: middle;\n",
       "    }\n",
       "\n",
       "    .dataframe tbody tr th {\n",
       "        vertical-align: top;\n",
       "    }\n",
       "\n",
       "    .dataframe thead th {\n",
       "        text-align: right;\n",
       "    }\n",
       "</style>\n",
       "<table border=\"1\" class=\"dataframe\">\n",
       "  <thead>\n",
       "    <tr style=\"text-align: right;\">\n",
       "      <th></th>\n",
       "      <th>uniq_id</th>\n",
       "      <th>crawl_timestamp</th>\n",
       "      <th>product_url</th>\n",
       "      <th>product_name</th>\n",
       "      <th>product_category_tree</th>\n",
       "      <th>pid</th>\n",
       "      <th>retail_price</th>\n",
       "      <th>discounted_price</th>\n",
       "      <th>image</th>\n",
       "      <th>is_FK_Advantage_product</th>\n",
       "      <th>description</th>\n",
       "      <th>product_rating</th>\n",
       "      <th>overall_rating</th>\n",
       "      <th>brand</th>\n",
       "      <th>product_specifications</th>\n",
       "    </tr>\n",
       "  </thead>\n",
       "  <tbody>\n",
       "    <tr>\n",
       "      <th>19995</th>\n",
       "      <td>7179d2f6c4ad50a17d014ca1d2815156</td>\n",
       "      <td>2015-12-01 10:15:43 +0000</td>\n",
       "      <td>http://www.flipkart.com/walldesign-small-vinyl...</td>\n",
       "      <td>WallDesign Small Vinyl Sticker</td>\n",
       "      <td>[\"Baby Care &gt;&gt; Baby &amp; Kids Gifts &gt;&gt; Stickers &gt;...</td>\n",
       "      <td>STIE7KFJAKSTDY9G</td>\n",
       "      <td>1500.0</td>\n",
       "      <td>730.0</td>\n",
       "      <td>[\"http://img6a.flixcart.com/image/wall-decorat...</td>\n",
       "      <td>False</td>\n",
       "      <td>Buy WallDesign Small Vinyl Sticker for Rs.730 ...</td>\n",
       "      <td>No rating available</td>\n",
       "      <td>No rating available</td>\n",
       "      <td>WallDesign</td>\n",
       "      <td>{\"product_specification\"=&gt;[{\"key\"=&gt;\"Number of ...</td>\n",
       "    </tr>\n",
       "    <tr>\n",
       "      <th>19996</th>\n",
       "      <td>71ac419198359d37b8fe5e3fffdfee09</td>\n",
       "      <td>2015-12-01 10:15:43 +0000</td>\n",
       "      <td>http://www.flipkart.com/wallmantra-large-vinyl...</td>\n",
       "      <td>Wallmantra Large Vinyl Stickers Sticker</td>\n",
       "      <td>[\"Baby Care &gt;&gt; Baby &amp; Kids Gifts &gt;&gt; Stickers &gt;...</td>\n",
       "      <td>STIE9F5URNQGJCGH</td>\n",
       "      <td>1429.0</td>\n",
       "      <td>1143.0</td>\n",
       "      <td>[\"http://img6a.flixcart.com/image/sticker/z/g/...</td>\n",
       "      <td>False</td>\n",
       "      <td>Buy Wallmantra Large Vinyl Stickers Sticker fo...</td>\n",
       "      <td>No rating available</td>\n",
       "      <td>No rating available</td>\n",
       "      <td>Wallmantra</td>\n",
       "      <td>{\"product_specification\"=&gt;[{\"key\"=&gt;\"Number of ...</td>\n",
       "    </tr>\n",
       "    <tr>\n",
       "      <th>19997</th>\n",
       "      <td>93e9d343837400ce0d7980874ece471c</td>\n",
       "      <td>2015-12-01 10:15:43 +0000</td>\n",
       "      <td>http://www.flipkart.com/elite-collection-mediu...</td>\n",
       "      <td>Elite Collection Medium Acrylic Sticker</td>\n",
       "      <td>[\"Baby Care &gt;&gt; Baby &amp; Kids Gifts &gt;&gt; Stickers &gt;...</td>\n",
       "      <td>STIE7VAYDKQZEBSD</td>\n",
       "      <td>1299.0</td>\n",
       "      <td>999.0</td>\n",
       "      <td>[\"http://img5a.flixcart.com/image/sticker/b/s/...</td>\n",
       "      <td>False</td>\n",
       "      <td>Buy Elite Collection Medium Acrylic Sticker fo...</td>\n",
       "      <td>No rating available</td>\n",
       "      <td>No rating available</td>\n",
       "      <td>Elite Collection</td>\n",
       "      <td>{\"product_specification\"=&gt;[{\"key\"=&gt;\"Number of ...</td>\n",
       "    </tr>\n",
       "    <tr>\n",
       "      <th>19998</th>\n",
       "      <td>669e79b8fa5d9ae020841c0c97d5e935</td>\n",
       "      <td>2015-12-01 10:15:43 +0000</td>\n",
       "      <td>http://www.flipkart.com/elite-collection-mediu...</td>\n",
       "      <td>Elite Collection Medium Acrylic Sticker</td>\n",
       "      <td>[\"Baby Care &gt;&gt; Baby &amp; Kids Gifts &gt;&gt; Stickers &gt;...</td>\n",
       "      <td>STIE8YSVEPPCZ42Y</td>\n",
       "      <td>1499.0</td>\n",
       "      <td>1199.0</td>\n",
       "      <td>[\"http://img5a.flixcart.com/image/sticker/4/2/...</td>\n",
       "      <td>False</td>\n",
       "      <td>Buy Elite Collection Medium Acrylic Sticker fo...</td>\n",
       "      <td>No rating available</td>\n",
       "      <td>No rating available</td>\n",
       "      <td>Elite Collection</td>\n",
       "      <td>{\"product_specification\"=&gt;[{\"key\"=&gt;\"Number of ...</td>\n",
       "    </tr>\n",
       "    <tr>\n",
       "      <th>19999</th>\n",
       "      <td>cb4fa87a874f715fff567f7b7b3be79c</td>\n",
       "      <td>2015-12-01 10:15:43 +0000</td>\n",
       "      <td>http://www.flipkart.com/elite-collection-mediu...</td>\n",
       "      <td>Elite Collection Medium Acrylic Sticker</td>\n",
       "      <td>[\"Baby Care &gt;&gt; Baby &amp; Kids Gifts &gt;&gt; Stickers &gt;...</td>\n",
       "      <td>STIE88KN9ZDSGZKY</td>\n",
       "      <td>1499.0</td>\n",
       "      <td>999.0</td>\n",
       "      <td>[\"http://img6a.flixcart.com/image/sticker/z/k/...</td>\n",
       "      <td>False</td>\n",
       "      <td>Buy Elite Collection Medium Acrylic Sticker fo...</td>\n",
       "      <td>No rating available</td>\n",
       "      <td>No rating available</td>\n",
       "      <td>Elite Collection</td>\n",
       "      <td>{\"product_specification\"=&gt;[{\"key\"=&gt;\"Number of ...</td>\n",
       "    </tr>\n",
       "  </tbody>\n",
       "</table>\n",
       "</div>"
      ],
      "text/plain": [
       "                                uniq_id            crawl_timestamp  \\\n",
       "19995  7179d2f6c4ad50a17d014ca1d2815156  2015-12-01 10:15:43 +0000   \n",
       "19996  71ac419198359d37b8fe5e3fffdfee09  2015-12-01 10:15:43 +0000   \n",
       "19997  93e9d343837400ce0d7980874ece471c  2015-12-01 10:15:43 +0000   \n",
       "19998  669e79b8fa5d9ae020841c0c97d5e935  2015-12-01 10:15:43 +0000   \n",
       "19999  cb4fa87a874f715fff567f7b7b3be79c  2015-12-01 10:15:43 +0000   \n",
       "\n",
       "                                             product_url  \\\n",
       "19995  http://www.flipkart.com/walldesign-small-vinyl...   \n",
       "19996  http://www.flipkart.com/wallmantra-large-vinyl...   \n",
       "19997  http://www.flipkart.com/elite-collection-mediu...   \n",
       "19998  http://www.flipkart.com/elite-collection-mediu...   \n",
       "19999  http://www.flipkart.com/elite-collection-mediu...   \n",
       "\n",
       "                                  product_name  \\\n",
       "19995           WallDesign Small Vinyl Sticker   \n",
       "19996  Wallmantra Large Vinyl Stickers Sticker   \n",
       "19997  Elite Collection Medium Acrylic Sticker   \n",
       "19998  Elite Collection Medium Acrylic Sticker   \n",
       "19999  Elite Collection Medium Acrylic Sticker   \n",
       "\n",
       "                                   product_category_tree               pid  \\\n",
       "19995  [\"Baby Care >> Baby & Kids Gifts >> Stickers >...  STIE7KFJAKSTDY9G   \n",
       "19996  [\"Baby Care >> Baby & Kids Gifts >> Stickers >...  STIE9F5URNQGJCGH   \n",
       "19997  [\"Baby Care >> Baby & Kids Gifts >> Stickers >...  STIE7VAYDKQZEBSD   \n",
       "19998  [\"Baby Care >> Baby & Kids Gifts >> Stickers >...  STIE8YSVEPPCZ42Y   \n",
       "19999  [\"Baby Care >> Baby & Kids Gifts >> Stickers >...  STIE88KN9ZDSGZKY   \n",
       "\n",
       "       retail_price  discounted_price  \\\n",
       "19995        1500.0             730.0   \n",
       "19996        1429.0            1143.0   \n",
       "19997        1299.0             999.0   \n",
       "19998        1499.0            1199.0   \n",
       "19999        1499.0             999.0   \n",
       "\n",
       "                                                   image  \\\n",
       "19995  [\"http://img6a.flixcart.com/image/wall-decorat...   \n",
       "19996  [\"http://img6a.flixcart.com/image/sticker/z/g/...   \n",
       "19997  [\"http://img5a.flixcart.com/image/sticker/b/s/...   \n",
       "19998  [\"http://img5a.flixcart.com/image/sticker/4/2/...   \n",
       "19999  [\"http://img6a.flixcart.com/image/sticker/z/k/...   \n",
       "\n",
       "       is_FK_Advantage_product  \\\n",
       "19995                    False   \n",
       "19996                    False   \n",
       "19997                    False   \n",
       "19998                    False   \n",
       "19999                    False   \n",
       "\n",
       "                                             description       product_rating  \\\n",
       "19995  Buy WallDesign Small Vinyl Sticker for Rs.730 ...  No rating available   \n",
       "19996  Buy Wallmantra Large Vinyl Stickers Sticker fo...  No rating available   \n",
       "19997  Buy Elite Collection Medium Acrylic Sticker fo...  No rating available   \n",
       "19998  Buy Elite Collection Medium Acrylic Sticker fo...  No rating available   \n",
       "19999  Buy Elite Collection Medium Acrylic Sticker fo...  No rating available   \n",
       "\n",
       "            overall_rating             brand  \\\n",
       "19995  No rating available        WallDesign   \n",
       "19996  No rating available        Wallmantra   \n",
       "19997  No rating available  Elite Collection   \n",
       "19998  No rating available  Elite Collection   \n",
       "19999  No rating available  Elite Collection   \n",
       "\n",
       "                                  product_specifications  \n",
       "19995  {\"product_specification\"=>[{\"key\"=>\"Number of ...  \n",
       "19996  {\"product_specification\"=>[{\"key\"=>\"Number of ...  \n",
       "19997  {\"product_specification\"=>[{\"key\"=>\"Number of ...  \n",
       "19998  {\"product_specification\"=>[{\"key\"=>\"Number of ...  \n",
       "19999  {\"product_specification\"=>[{\"key\"=>\"Number of ...  "
      ]
     },
     "execution_count": 11,
     "metadata": {},
     "output_type": "execute_result"
    }
   ],
   "source": [
    "df.tail()"
   ]
  },
  {
   "cell_type": "code",
   "execution_count": 12,
   "id": "0075e79b",
   "metadata": {
    "papermill": {
     "duration": 0.064731,
     "end_time": "2023-10-19T06:07:15.663490",
     "exception": false,
     "start_time": "2023-10-19T06:07:15.598759",
     "status": "completed"
    },
    "tags": []
   },
   "outputs": [
    {
     "name": "stdout",
     "output_type": "stream",
     "text": [
      "<class 'pandas.core.frame.DataFrame'>\n",
      "RangeIndex: 20000 entries, 0 to 19999\n",
      "Data columns (total 15 columns):\n",
      " #   Column                   Non-Null Count  Dtype  \n",
      "---  ------                   --------------  -----  \n",
      " 0   uniq_id                  20000 non-null  object \n",
      " 1   crawl_timestamp          20000 non-null  object \n",
      " 2   product_url              20000 non-null  object \n",
      " 3   product_name             20000 non-null  object \n",
      " 4   product_category_tree    20000 non-null  object \n",
      " 5   pid                      20000 non-null  object \n",
      " 6   retail_price             19922 non-null  float64\n",
      " 7   discounted_price         19922 non-null  float64\n",
      " 8   image                    19997 non-null  object \n",
      " 9   is_FK_Advantage_product  20000 non-null  bool   \n",
      " 10  description              19998 non-null  object \n",
      " 11  product_rating           20000 non-null  object \n",
      " 12  overall_rating           20000 non-null  object \n",
      " 13  brand                    14136 non-null  object \n",
      " 14  product_specifications   19986 non-null  object \n",
      "dtypes: bool(1), float64(2), object(12)\n",
      "memory usage: 2.2+ MB\n"
     ]
    }
   ],
   "source": [
    "df.info()"
   ]
  },
  {
   "cell_type": "code",
   "execution_count": 13,
   "id": "a22d754b",
   "metadata": {
    "papermill": {
     "duration": 0.022019,
     "end_time": "2023-10-19T06:07:15.694416",
     "exception": false,
     "start_time": "2023-10-19T06:07:15.672397",
     "status": "completed"
    },
    "tags": []
   },
   "outputs": [
    {
     "data": {
      "text/plain": [
       "uniq_id                     object\n",
       "crawl_timestamp             object\n",
       "product_url                 object\n",
       "product_name                object\n",
       "product_category_tree       object\n",
       "pid                         object\n",
       "retail_price               float64\n",
       "discounted_price           float64\n",
       "image                       object\n",
       "is_FK_Advantage_product       bool\n",
       "description                 object\n",
       "product_rating              object\n",
       "overall_rating              object\n",
       "brand                       object\n",
       "product_specifications      object\n",
       "dtype: object"
      ]
     },
     "execution_count": 13,
     "metadata": {},
     "output_type": "execute_result"
    }
   ],
   "source": [
    "df.dtypes"
   ]
  },
  {
   "cell_type": "code",
   "execution_count": 14,
   "id": "99d0457f",
   "metadata": {
    "papermill": {
     "duration": 0.0326,
     "end_time": "2023-10-19T06:07:15.734817",
     "exception": false,
     "start_time": "2023-10-19T06:07:15.702217",
     "status": "completed"
    },
    "tags": []
   },
   "outputs": [
    {
     "data": {
      "text/html": [
       "<div>\n",
       "<style scoped>\n",
       "    .dataframe tbody tr th:only-of-type {\n",
       "        vertical-align: middle;\n",
       "    }\n",
       "\n",
       "    .dataframe tbody tr th {\n",
       "        vertical-align: top;\n",
       "    }\n",
       "\n",
       "    .dataframe thead th {\n",
       "        text-align: right;\n",
       "    }\n",
       "</style>\n",
       "<table border=\"1\" class=\"dataframe\">\n",
       "  <thead>\n",
       "    <tr style=\"text-align: right;\">\n",
       "      <th></th>\n",
       "      <th>retail_price</th>\n",
       "      <th>discounted_price</th>\n",
       "    </tr>\n",
       "  </thead>\n",
       "  <tbody>\n",
       "    <tr>\n",
       "      <th>count</th>\n",
       "      <td>19922.000000</td>\n",
       "      <td>19922.000000</td>\n",
       "    </tr>\n",
       "    <tr>\n",
       "      <th>mean</th>\n",
       "      <td>2979.206104</td>\n",
       "      <td>1973.401767</td>\n",
       "    </tr>\n",
       "    <tr>\n",
       "      <th>std</th>\n",
       "      <td>9009.639341</td>\n",
       "      <td>7333.586040</td>\n",
       "    </tr>\n",
       "    <tr>\n",
       "      <th>min</th>\n",
       "      <td>35.000000</td>\n",
       "      <td>35.000000</td>\n",
       "    </tr>\n",
       "    <tr>\n",
       "      <th>25%</th>\n",
       "      <td>666.000000</td>\n",
       "      <td>350.000000</td>\n",
       "    </tr>\n",
       "    <tr>\n",
       "      <th>50%</th>\n",
       "      <td>1040.000000</td>\n",
       "      <td>550.000000</td>\n",
       "    </tr>\n",
       "    <tr>\n",
       "      <th>75%</th>\n",
       "      <td>1999.000000</td>\n",
       "      <td>999.000000</td>\n",
       "    </tr>\n",
       "    <tr>\n",
       "      <th>max</th>\n",
       "      <td>571230.000000</td>\n",
       "      <td>571230.000000</td>\n",
       "    </tr>\n",
       "  </tbody>\n",
       "</table>\n",
       "</div>"
      ],
      "text/plain": [
       "        retail_price  discounted_price\n",
       "count   19922.000000      19922.000000\n",
       "mean     2979.206104       1973.401767\n",
       "std      9009.639341       7333.586040\n",
       "min        35.000000         35.000000\n",
       "25%       666.000000        350.000000\n",
       "50%      1040.000000        550.000000\n",
       "75%      1999.000000        999.000000\n",
       "max    571230.000000     571230.000000"
      ]
     },
     "execution_count": 14,
     "metadata": {},
     "output_type": "execute_result"
    }
   ],
   "source": [
    "df.describe()"
   ]
  },
  {
   "cell_type": "code",
   "execution_count": 15,
   "id": "260f99d7",
   "metadata": {
    "papermill": {
     "duration": 0.041639,
     "end_time": "2023-10-19T06:07:15.784336",
     "exception": false,
     "start_time": "2023-10-19T06:07:15.742697",
     "status": "completed"
    },
    "tags": []
   },
   "outputs": [
    {
     "data": {
      "text/plain": [
       "uniq_id                       0\n",
       "crawl_timestamp               0\n",
       "product_url                   0\n",
       "product_name                  0\n",
       "product_category_tree         0\n",
       "pid                           0\n",
       "retail_price                 78\n",
       "discounted_price             78\n",
       "image                         3\n",
       "is_FK_Advantage_product       0\n",
       "description                   2\n",
       "product_rating                0\n",
       "overall_rating                0\n",
       "brand                      5864\n",
       "product_specifications       14\n",
       "dtype: int64"
      ]
     },
     "execution_count": 15,
     "metadata": {},
     "output_type": "execute_result"
    }
   ],
   "source": [
    "df.isnull().sum()"
   ]
  },
  {
   "cell_type": "markdown",
   "id": "37520fcf",
   "metadata": {
    "papermill": {
     "duration": 0.007286,
     "end_time": "2023-10-19T06:07:15.799458",
     "exception": false,
     "start_time": "2023-10-19T06:07:15.792172",
     "status": "completed"
    },
    "tags": []
   },
   "source": [
    "**1.\tWhich are the top 5 product categories based on the number of listings?**"
   ]
  },
  {
   "cell_type": "code",
   "execution_count": 16,
   "id": "5ad1027a",
   "metadata": {
    "papermill": {
     "duration": 0.039802,
     "end_time": "2023-10-19T06:07:15.846871",
     "exception": false,
     "start_time": "2023-10-19T06:07:15.807069",
     "status": "completed"
    },
    "tags": []
   },
   "outputs": [
    {
     "name": "stdout",
     "output_type": "stream",
     "text": [
      "[\"Clothing                 6198\n",
      "[\"Jewellery                3531\n",
      "[\"Footwear                 1227\n",
      "[\"Mobiles & Accessories    1099\n",
      "[\"Automotive               1012\n",
      "Name: product_category_tree, dtype: int64\n"
     ]
    }
   ],
   "source": [
    "# Define a function to extract the main category\n",
    "def extract_main_category(product_category_tree ):\n",
    "    # Split the category_tree on \">>\" and take the first part\n",
    "    categories = product_category_tree.split(\">>\")\n",
    "    return categories[0].strip()\n",
    "\n",
    "# Apply the function to create a new 'main_category' column\n",
    "df['product_category_tree'] = df['product_category_tree'].apply(extract_main_category)\n",
    "\n",
    "# Use value_counts() to get the counts of each category and display the top 5\n",
    "top_categories = df['product_category_tree'].value_counts().head(5)\n",
    "print(top_categories)\n"
   ]
  },
  {
   "cell_type": "code",
   "execution_count": 17,
   "id": "9e05ed0b",
   "metadata": {
    "papermill": {
     "duration": 0.017806,
     "end_time": "2023-10-19T06:07:15.872665",
     "exception": false,
     "start_time": "2023-10-19T06:07:15.854859",
     "status": "completed"
    },
    "tags": []
   },
   "outputs": [],
   "source": [
    "def extract_main_category(category_tree):\n",
    "    categories = category_tree.split('>>')\n",
    "    if len(categories) > 0:\n",
    "        return categories[0].strip()\n",
    "    else:\n",
    "        return None"
   ]
  },
  {
   "cell_type": "code",
   "execution_count": 18,
   "id": "4b6e3ed0",
   "metadata": {
    "papermill": {
     "duration": 0.024399,
     "end_time": "2023-10-19T06:07:15.905943",
     "exception": false,
     "start_time": "2023-10-19T06:07:15.881544",
     "status": "completed"
    },
    "tags": []
   },
   "outputs": [],
   "source": [
    "df['main_category'] = df['product_category_tree'].apply(extract_main_category)\n"
   ]
  },
  {
   "cell_type": "code",
   "execution_count": 19,
   "id": "10d72092",
   "metadata": {
    "papermill": {
     "duration": 0.022933,
     "end_time": "2023-10-19T06:07:15.936516",
     "exception": false,
     "start_time": "2023-10-19T06:07:15.913583",
     "status": "completed"
    },
    "tags": []
   },
   "outputs": [
    {
     "name": "stdout",
     "output_type": "stream",
     "text": [
      "      product_category_tree   main_category\n",
      "0                [\"Clothing      [\"Clothing\n",
      "1               [\"Furniture     [\"Furniture\n",
      "2                [\"Footwear      [\"Footwear\n",
      "3                [\"Clothing      [\"Clothing\n",
      "4            [\"Pet Supplies  [\"Pet Supplies\n",
      "...                     ...             ...\n",
      "19995           [\"Baby Care     [\"Baby Care\n",
      "19996           [\"Baby Care     [\"Baby Care\n",
      "19997           [\"Baby Care     [\"Baby Care\n",
      "19998           [\"Baby Care     [\"Baby Care\n",
      "19999           [\"Baby Care     [\"Baby Care\n",
      "\n",
      "[20000 rows x 2 columns]\n"
     ]
    }
   ],
   "source": [
    "print(df[['product_category_tree', 'main_category']])\n"
   ]
  },
  {
   "cell_type": "code",
   "execution_count": 20,
   "id": "15134743",
   "metadata": {
    "papermill": {
     "duration": 0.025504,
     "end_time": "2023-10-19T06:07:15.969945",
     "exception": false,
     "start_time": "2023-10-19T06:07:15.944441",
     "status": "completed"
    },
    "tags": []
   },
   "outputs": [
    {
     "name": "stdout",
     "output_type": "stream",
     "text": [
      "[\"Clothing                 6198\n",
      "[\"Jewellery                3531\n",
      "[\"Footwear                 1227\n",
      "[\"Mobiles & Accessories    1099\n",
      "[\"Automotive               1012\n",
      "Name: main_category, dtype: int64\n"
     ]
    }
   ],
   "source": [
    "# Assuming you have the 'main_category' column in your DataFrame\n",
    "category_counts = df['main_category'].value_counts()\n",
    "\n",
    "# Display the top 5 categories\n",
    "top_5_categories = category_counts.head(5)\n",
    "print(top_5_categories)"
   ]
  },
  {
   "cell_type": "markdown",
   "id": "5c276ea5",
   "metadata": {
    "papermill": {
     "duration": 0.009295,
     "end_time": "2023-10-19T06:07:15.987915",
     "exception": false,
     "start_time": "2023-10-19T06:07:15.978620",
     "status": "completed"
    },
    "tags": []
   },
   "source": [
    "**2.\t Which are the top 5 brands with the most product listings?**"
   ]
  },
  {
   "cell_type": "code",
   "execution_count": 21,
   "id": "ddc9b8b0",
   "metadata": {
    "papermill": {
     "duration": 0.029703,
     "end_time": "2023-10-19T06:07:16.028280",
     "exception": false,
     "start_time": "2023-10-19T06:07:15.998577",
     "status": "completed"
    },
    "tags": []
   },
   "outputs": [
    {
     "name": "stdout",
     "output_type": "stream",
     "text": [
      "Allure Auto     469\n",
      "Regular         313\n",
      "Voylla          299\n",
      "Slim            288\n",
      "TheLostPuppy    229\n",
      "Name: brand, dtype: int64\n"
     ]
    }
   ],
   "source": [
    "# Assuming you have the 'brand' column in your DataFrame\n",
    "brand_counts = df['brand'].value_counts()\n",
    "\n",
    "# Display the top 5 brands\n",
    "top_5_brands = brand_counts.head(5)\n",
    "print(top_5_brands)"
   ]
  },
  {
   "cell_type": "markdown",
   "id": "4202bb11",
   "metadata": {
    "papermill": {
     "duration": 0.008966,
     "end_time": "2023-10-19T06:07:16.046342",
     "exception": false,
     "start_time": "2023-10-19T06:07:16.037376",
     "status": "completed"
    },
    "tags": []
   },
   "source": [
    "**3.\tWhat is the average discount offered by Flipkart across all products?**"
   ]
  },
  {
   "cell_type": "code",
   "execution_count": 22,
   "id": "b0be3e26",
   "metadata": {
    "papermill": {
     "duration": 0.021883,
     "end_time": "2023-10-19T06:07:16.077604",
     "exception": false,
     "start_time": "2023-10-19T06:07:16.055721",
     "status": "completed"
    },
    "tags": []
   },
   "outputs": [
    {
     "name": "stdout",
     "output_type": "stream",
     "text": [
      "Average Discount Percentage: 40.523885297513765\n"
     ]
    }
   ],
   "source": [
    "# Calculate the discount percentage for each product\n",
    "df['discount_percentage'] = ((df['retail_price'] - df['discounted_price']) / df['retail_price']) * 100\n",
    "\n",
    "# Find the average discount percentage using the mean() method\n",
    "average_discount_percentage = df['discount_percentage'].mean()\n",
    "\n",
    "# Display the result\n",
    "print(\"Average Discount Percentage:\", average_discount_percentage)\n"
   ]
  },
  {
   "cell_type": "markdown",
   "id": "045c3825",
   "metadata": {
    "papermill": {
     "duration": 0.00803,
     "end_time": "2023-10-19T06:07:16.095533",
     "exception": false,
     "start_time": "2023-10-19T06:07:16.087503",
     "status": "completed"
    },
    "tags": []
   },
   "source": [
    "**4.\tHow many products have customer ratings?**"
   ]
  },
  {
   "cell_type": "code",
   "execution_count": 23,
   "id": "15bb1853",
   "metadata": {
    "papermill": {
     "duration": 0.025691,
     "end_time": "2023-10-19T06:07:16.130043",
     "exception": false,
     "start_time": "2023-10-19T06:07:16.104352",
     "status": "completed"
    },
    "tags": []
   },
   "outputs": [
    {
     "name": "stdout",
     "output_type": "stream",
     "text": [
      "Number of Ratings Available: 1849\n"
     ]
    }
   ],
   "source": [
    "# Filter the DataFrame to exclude entries with \"No rating available\"\n",
    "filtered_df = df[df['product_rating'] != 'No rating available']\n",
    "\n",
    "# Use the count() method to count the remaining entries\n",
    "count_of_ratings = filtered_df['product_rating'].count()\n",
    "\n",
    "# Display the count of ratings\n",
    "print(\"Number of Ratings Available:\", count_of_ratings)\n"
   ]
  },
  {
   "cell_type": "markdown",
   "id": "7daba955",
   "metadata": {
    "papermill": {
     "duration": 0.009343,
     "end_time": "2023-10-19T06:07:16.148582",
     "exception": false,
     "start_time": "2023-10-19T06:07:16.139239",
     "status": "completed"
    },
    "tags": []
   },
   "source": [
    "5**.\tWhat percentage of products are part of the Flipkart Advantage program?**"
   ]
  },
  {
   "cell_type": "code",
   "execution_count": 24,
   "id": "8b8c1a99",
   "metadata": {
    "papermill": {
     "duration": 0.020907,
     "end_time": "2023-10-19T06:07:16.178704",
     "exception": false,
     "start_time": "2023-10-19T06:07:16.157797",
     "status": "completed"
    },
    "tags": []
   },
   "outputs": [
    {
     "name": "stdout",
     "output_type": "stream",
     "text": [
      "Percentage of True values: 3.925 %\n"
     ]
    }
   ],
   "source": [
    "# Use the mean() method to calculate the percentage of True values\n",
    "percentage_of_true_values = df['is_FK_Advantage_product'].mean() * 100\n",
    "\n",
    "# Display the percentage\n",
    "print(\"Percentage of True values:\", percentage_of_true_values, \"%\")\n"
   ]
  },
  {
   "cell_type": "markdown",
   "id": "d10bf815",
   "metadata": {
    "papermill": {
     "duration": 0.009341,
     "end_time": "2023-10-19T06:07:16.197326",
     "exception": false,
     "start_time": "2023-10-19T06:07:16.187985",
     "status": "completed"
    },
    "tags": []
   },
   "source": [
    "W**hich are the top 3 most expensive products listed on Flipkart?**"
   ]
  },
  {
   "cell_type": "code",
   "execution_count": 25,
   "id": "75904f20",
   "metadata": {
    "papermill": {
     "duration": 0.061201,
     "end_time": "2023-10-19T06:07:16.268278",
     "exception": false,
     "start_time": "2023-10-19T06:07:16.207077",
     "status": "completed"
    },
    "tags": []
   },
   "outputs": [
    {
     "name": "stdout",
     "output_type": "stream",
     "text": [
      "                                uniq_id            crawl_timestamp  \\\n",
      "116    329c5f4d7aced63e1ce3e88f41d5e7e6  2015-12-04 07:25:36 +0000   \n",
      "11631  3a2546675bc399953779e58d84d56650  2015-12-31 09:19:31 +0000   \n",
      "11507  d9fa5b1d8917b841abaef2a1ce032114  2015-12-31 09:19:31 +0000   \n",
      "\n",
      "                                             product_url  \\\n",
      "116    http://www.flipkart.com/breitling-ab011010-bb0...   \n",
      "11631  http://www.flipkart.com/durian-leather-2-seate...   \n",
      "11507  http://www.flipkart.com/durian-laze-3-leather-...   \n",
      "\n",
      "                                            product_name  \\\n",
      "116    Breitling AB011010/BB08 131S Chronomat 44 Anal...   \n",
      "11631                       Durian Leather 2 Seater Sofa   \n",
      "11507                Durian Laze/3 Leather 3 Seater Sofa   \n",
      "\n",
      "      product_category_tree               pid  retail_price  discounted_price  \\\n",
      "116               [\"Watches  WATE9DX9E4YSRJSY      571230.0          571230.0   \n",
      "11631           [\"Furniture  SOFEE7ACBVAGKYUV      250500.0          162825.0   \n",
      "11507           [\"Furniture  SOFECYFA8R8T5HNG      217500.0          141375.0   \n",
      "\n",
      "                                                   image  \\\n",
      "116    [\"http://img5a.flixcart.com/image/watch/j/s/y/...   \n",
      "11631  [\"http://img6a.flixcart.com/image/sofa-section...   \n",
      "11507  [\"http://img6a.flixcart.com/image/sofa-section...   \n",
      "\n",
      "       is_FK_Advantage_product  \\\n",
      "116                      False   \n",
      "11631                    False   \n",
      "11507                    False   \n",
      "\n",
      "                                             description       product_rating  \\\n",
      "116    Breitling AB011010/BB08 131S Chronomat 44 Anal...  No rating available   \n",
      "11631  Durian Leather 2 Seater Sofa (Finish Color - B...  No rating available   \n",
      "11507  Durian Laze/3 Leather 3 Seater Sofa (Finish Co...  No rating available   \n",
      "\n",
      "            overall_rating   brand  \\\n",
      "116    No rating available     NaN   \n",
      "11631  No rating available  Durian   \n",
      "11507  No rating available  Durian   \n",
      "\n",
      "                                  product_specifications main_category  \\\n",
      "116    {\"product_specification\"=>[{\"key\"=>\"Chronograp...     [\"Watches   \n",
      "11631  {\"product_specification\"=>[{\"value\"=>\"1 SOFA\"}...   [\"Furniture   \n",
      "11507  {\"product_specification\"=>[{\"value\"=>\"1 Sofa\"}...   [\"Furniture   \n",
      "\n",
      "       discount_percentage  \n",
      "116                    0.0  \n",
      "11631                 35.0  \n",
      "11507                 35.0  \n"
     ]
    }
   ],
   "source": [
    "# Use nlargest() to find the top 3 most expensive products\n",
    "top_3_expensive = df.nlargest(3, 'retail_price')\n",
    "\n",
    "# Display the top 3 most expensive products\n",
    "print(top_3_expensive)\n"
   ]
  },
  {
   "cell_type": "markdown",
   "id": "352633f6",
   "metadata": {
    "papermill": {
     "duration": 0.009005,
     "end_time": "2023-10-19T06:07:16.287082",
     "exception": false,
     "start_time": "2023-10-19T06:07:16.278077",
     "status": "completed"
    },
    "tags": []
   },
   "source": [
    "**Which brands have the highest average product rating?**"
   ]
  },
  {
   "cell_type": "code",
   "execution_count": 26,
   "id": "df376f22",
   "metadata": {
    "papermill": {
     "duration": 0.044726,
     "end_time": "2023-10-19T06:07:16.341097",
     "exception": false,
     "start_time": "2023-10-19T06:07:16.296371",
     "status": "completed"
    },
    "tags": []
   },
   "outputs": [
    {
     "name": "stdout",
     "output_type": "stream",
     "text": [
      "brand\n",
      "1OAK            NaN\n",
      "3D Mat          NaN\n",
      "3a AUTOCARE     NaN\n",
      "3a Autocare     4.5\n",
      "3kFactory       NaN\n",
      "               ... \n",
      "youniqueshop    NaN\n",
      "zDelhi.com      5.0\n",
      "zaidis          NaN\n",
      "zasmina         NaN\n",
      " Tarkan         NaN\n",
      "Name: product_rating, Length: 3499, dtype: float64\n"
     ]
    }
   ],
   "source": [
    "# Convert the 'product_rating' column to numeric, setting errors='coerce' to handle non-numeric entries as NaN\n",
    "df['product_rating'] = pd.to_numeric(df['product_rating'], errors='coerce')\n",
    "\n",
    "# Group by the 'brand' column and calculate the mean rating for each brand\n",
    "brand_ratings = df.groupby('brand')['product_rating'].mean()\n",
    "\n",
    "# Display the average rating for each brand\n",
    "print(brand_ratings)\n"
   ]
  },
  {
   "cell_type": "markdown",
   "id": "bbf7b9e6",
   "metadata": {
    "papermill": {
     "duration": 0.106263,
     "end_time": "2023-10-19T06:07:16.457521",
     "exception": false,
     "start_time": "2023-10-19T06:07:16.351258",
     "status": "completed"
    },
    "tags": []
   },
   "source": [
    "**Which product category has the highest average retail price?**"
   ]
  },
  {
   "cell_type": "code",
   "execution_count": 27,
   "id": "e5671461",
   "metadata": {
    "papermill": {
     "duration": 0.054408,
     "end_time": "2023-10-19T06:07:16.522231",
     "exception": false,
     "start_time": "2023-10-19T06:07:16.467823",
     "status": "completed"
    },
    "tags": []
   },
   "outputs": [
    {
     "name": "stdout",
     "output_type": "stream",
     "text": [
      "main_category\n",
      "[\"883 Police Full Sleeve Solid Men's Jacket\"]              7499.0\n",
      "[\"ABEEZ Boys, Men, Girls (Black, Pack of 1)\"]               399.0\n",
      "[\"ANAND ARCHIES Girls Flats\"]                               499.0\n",
      "[\"ANAND ARCHIES Girls Wedges\"]                              899.0\n",
      "[\"ANASAZI Casual 3/4 Sleeve Solid Women's Top\"]             899.0\n",
      "                                                            ...  \n",
      "[\"run of luck Solid Women's Round Neck Dark Blue T...\"]     299.0\n",
      "[\"soie Fashion Women's Full Coverage Bra\"]                  540.0\n",
      "[\"soie Fashion Women's Sports Bra\"]                         880.0\n",
      "[\"tadd Men's, Women's Ankle Length Socks\"]                  499.0\n",
      "[\"xy decor Cotton Sofa Cover (white Pack of 6)\"]           1699.0\n",
      "Name: retail_price, Length: 266, dtype: float64\n"
     ]
    }
   ],
   "source": [
    "# Extract the main category from the 'product_category_tree' column\n",
    "df['main_category'] = df['product_category_tree'].str.split('>>').str[0].str.strip()\n",
    "\n",
    "# Convert the 'retail_price' column to numeric\n",
    "df['retail_price'] = pd.to_numeric(df['retail_price'], errors='coerce')\n",
    "\n",
    "# Group by the extracted 'main_category' column and calculate the average retail price for each category\n",
    "category_avg_prices = df.groupby('main_category')['retail_price'].mean()\n",
    "\n",
    "\n",
    "# Display the average retail price for each category\n",
    "print(category_avg_prices)\n"
   ]
  },
  {
   "cell_type": "markdown",
   "id": "9b439c2f",
   "metadata": {
    "papermill": {
     "duration": 0.008399,
     "end_time": "2023-10-19T06:07:16.539029",
     "exception": false,
     "start_time": "2023-10-19T06:07:16.530630",
     "status": "completed"
    },
    "tags": []
   },
   "source": [
    "**Which products have the longest and shortest descriptions?**"
   ]
  },
  {
   "cell_type": "code",
   "execution_count": 28,
   "id": "a1a4ce1a",
   "metadata": {
    "papermill": {
     "duration": 0.034294,
     "end_time": "2023-10-19T06:07:16.581750",
     "exception": false,
     "start_time": "2023-10-19T06:07:16.547456",
     "status": "completed"
    },
    "tags": []
   },
   "outputs": [
    {
     "name": "stdout",
     "output_type": "stream",
     "text": [
      "Product with the longest description:\n",
      "   product_id                                     description  \\\n",
      "3           4  Innovative design and cutting-edge technology.   \n",
      "\n",
      "   description_length  \n",
      "3                  46  \n",
      "\n",
      "Product with the shortest description:\n",
      "   product_id                           description  description_length\n",
      "1           2  Basic product with limited features.                  36\n"
     ]
    }
   ],
   "source": [
    "import pandas as pd\n",
    "\n",
    "# Sample DataFrame - Replace this with your actual data\n",
    "data = {'product_id': [1, 2, 3, 4, 5],\n",
    "        'rating': [4.5, 3.0, 4.2, 4.8, 3.5],\n",
    "        'description': [\"High-quality product with advanced features.\", \"Basic product with limited features.\",\n",
    "                        \"Premium product designed for professionals.\", \"Innovative design and cutting-edge technology.\",\n",
    "                        \"Affordable product for everyday use.\"]}\n",
    "\n",
    "df = pd.DataFrame(data)\n",
    "\n",
    "# Create a new column for product description length\n",
    "df['description_length'] = df['description'].apply(len)\n",
    "\n",
    "# Find the product with the longest description\n",
    "product_with_longest_description = df.nlargest(1, 'description_length')\n",
    "\n",
    "# Find the product with the shortest description\n",
    "product_with_shortest_description = df.nsmallest(1, 'description_length')\n",
    "\n",
    "print(\"Product with the longest description:\")\n",
    "print(product_with_longest_description[['product_id', 'description', 'description_length']])\n",
    "\n",
    "print(\"\\nProduct with the shortest description:\")\n",
    "print(product_with_shortest_description[['product_id', 'description', 'description_length']])\n"
   ]
  },
  {
   "cell_type": "markdown",
   "id": "3c1d3e09",
   "metadata": {
    "papermill": {
     "duration": 0.007991,
     "end_time": "2023-10-19T06:07:16.598458",
     "exception": false,
     "start_time": "2023-10-19T06:07:16.590467",
     "status": "completed"
    },
    "tags": []
   },
   "source": [
    "**In which month was the data mostly crawled?**"
   ]
  },
  {
   "cell_type": "code",
   "execution_count": 29,
   "id": "e2a6be25",
   "metadata": {
    "papermill": {
     "duration": 0.030152,
     "end_time": "2023-10-19T06:07:16.637439",
     "exception": false,
     "start_time": "2023-10-19T06:07:16.607287",
     "status": "completed"
    },
    "tags": []
   },
   "outputs": [
    {
     "name": "stdout",
     "output_type": "stream",
     "text": [
      "The data was mostly crawled in: May\n"
     ]
    }
   ],
   "source": [
    "# Sample DataFrame - Replace this with your actual data\n",
    "data = {'crawl_timestamp': ['2023-05-15 10:30:00', '2023-04-20 14:45:00', '2023-05-10 09:15:00', '2023-04-05 17:20:00', '2023-06-01 08:00:00']}\n",
    "df = pd.DataFrame(data)\n",
    "\n",
    "# Convert 'crawl_timestamp' column to datetime format\n",
    "df['crawl_timestamp'] = pd.to_datetime(df['crawl_timestamp'])\n",
    "\n",
    "# Extract the month information and count occurrences\n",
    "most_common_month = df['crawl_timestamp'].dt.month.value_counts().idxmax()\n",
    "\n",
    "# Convert the month number to the month name\n",
    "month_names = ['January', 'February', 'March', 'April', 'May', 'June', 'July', 'August', 'September', 'October', 'November', 'December']\n",
    "most_common_month_name = month_names[most_common_month - 1]\n",
    "\n",
    "print(\"The data was mostly crawled in:\", most_common_month_name)\n"
   ]
  },
  {
   "cell_type": "markdown",
   "id": "11b50fd6",
   "metadata": {
    "papermill": {
     "duration": 0.011324,
     "end_time": "2023-10-19T06:07:16.659275",
     "exception": false,
     "start_time": "2023-10-19T06:07:16.647951",
     "status": "completed"
    },
    "tags": []
   },
   "source": [
    "# **CONCLUSION**"
   ]
  },
  {
   "cell_type": "markdown",
   "id": "15a2f0f7",
   "metadata": {
    "papermill": {
     "duration": 0.009013,
     "end_time": "2023-10-19T06:07:16.679152",
     "exception": false,
     "start_time": "2023-10-19T06:07:16.670139",
     "status": "completed"
    },
    "tags": []
   },
   "source": [
    "\n",
    "* Top 5 Product Categeory is Clothing -6189,Jewellery-6531\n",
    "* footwear- 1227, Mobiles & Accessories -1099, Automotive -1012\n",
    "* Top Five Barnds is Allure Auto-469, Regular-313,Voylla -299,Slim -288, TheLostPuppy -229\n",
    "* Flipkart across all products Average Discount Percentage: 40.523885297513765\n",
    "* Number of Ratings Available by Customer : 1849\n",
    "* Flipkart Advantage program Percentage of True values: 3.925 %\n",
    "* The data was mostly crawled in: May"
   ]
  },
  {
   "cell_type": "code",
   "execution_count": null,
   "id": "e3b60aab-ef74-4021-8328-630b14a41824",
   "metadata": {},
   "outputs": [],
   "source": []
  }
 ],
 "metadata": {
  "kernelspec": {
   "display_name": "Python 3 (ipykernel)",
   "language": "python",
   "name": "python3"
  },
  "language_info": {
   "codemirror_mode": {
    "name": "ipython",
    "version": 3
   },
   "file_extension": ".py",
   "mimetype": "text/x-python",
   "name": "python",
   "nbconvert_exporter": "python",
   "pygments_lexer": "ipython3",
   "version": "3.11.1"
  },
  "papermill": {
   "default_parameters": {},
   "duration": 8.743474,
   "end_time": "2023-10-19T06:07:17.511649",
   "environment_variables": {},
   "exception": null,
   "input_path": "__notebook__.ipynb",
   "output_path": "__notebook__.ipynb",
   "parameters": {},
   "start_time": "2023-10-19T06:07:08.768175",
   "version": "2.4.0"
  }
 },
 "nbformat": 4,
 "nbformat_minor": 5
}
